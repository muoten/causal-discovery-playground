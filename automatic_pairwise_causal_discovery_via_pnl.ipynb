{
 "cells": [
  {
   "cell_type": "markdown",
   "metadata": {},
   "source": [
    "# Automatic Pairwise Causal Discovery (II)\n",
    "\n",
    "### Post NonLinear causal model (PNL)\n",
    "\n",
    "Goals: \n",
    "- evaluate pairwise methods from causal discovery toolbox. Particularly `PNL`: [post-nonlinear causal model](https://www.cs.helsinki.fi/u/ahyvarin/papers/Zhang16.pdf)\n",
    "- analize relation between *Gross National Income per capita* (x) and *life expectancy* (y)\n",
    "- continue analysis started on https://github.com/muoten/causal-discovery-playground/blob/master/automatic_pairwise_causal_discovery_via_cds.ipynb\n",
    "\n",
    "Data Sources:\n",
    "-  Information for pair0074: http://webdav.tuebingen.mpg.de/cause-effect/pair0074_des.txt, based on [UNdata](http://data.un.org)\n",
    "- pair0001 & pair0086: from http://webdav.tuebingen.mpg.de/cause-effect/\n",
    "  \n",
    "Libraries\n",
    "- causal inference: http://webdav.tuebingen.mpg.de/causality/CauseOrEffect_NICA.rar \n",
    "- visualization: `matplotlib` and `seaborn`\n",
    "- other libraries: `pandas`, `numpy`\n",
    "\n",
    "### Step 1: Load and explore data\n",
    "#### 1.1.- Load data from `http://webdav.tuebingen.mpg.de/cause-effect`"
   ]
  },
  {
   "cell_type": "code",
   "execution_count": 1,
   "metadata": {},
   "outputs": [],
   "source": [
    "!wget http://webdav.tuebingen.mpg.de/cause-effect/pair0074.txt -O data/pair0074.txt 2>/dev/null"
   ]
  },
  {
   "cell_type": "code",
   "execution_count": 2,
   "metadata": {},
   "outputs": [
    {
     "name": "stdout",
     "output_type": "stream",
     "text": [
      "<class 'pandas.core.frame.DataFrame'>\n",
      "RangeIndex: 194 entries, 0 to 193\n",
      "Data columns (total 2 columns):\n",
      "x    194 non-null int64\n",
      "y    194 non-null int64\n",
      "dtypes: int64(2)\n",
      "memory usage: 3.2 KB\n"
     ]
    }
   ],
   "source": [
    "import pandas as pd\n",
    "df_xy = pd.read_csv('data/pair0074.txt', sep=' ', names=['x','y'], index_col=False)\n",
    "df_xy.info()"
   ]
  },
  {
   "cell_type": "markdown",
   "metadata": {},
   "source": [
    "#### 1.2.- Visualization\n",
    "\n",
    "Histograms in diagonal. Scatterplot off diagonal"
   ]
  },
  {
   "cell_type": "code",
   "execution_count": 3,
   "metadata": {},
   "outputs": [
    {
     "data": {
      "image/png": "[encoded data removed]",
      "text/plain": [
       "<Figure size 360x360 with 6 Axes>"
      ]
     },
     "metadata": {
      "needs_background": "light"
     },
     "output_type": "display_data"
    }
   ],
   "source": [
    "import seaborn as sns\n",
    "import matplotlib.pyplot as plt\n",
    "g = sns.PairGrid(df_xy, vars=[\"x\", \"y\"])\n",
    "g = g.map_diag(plt.hist, edgecolor=\"w\", bins=20)\n",
    "g = g.map_offdiag(plt.scatter, edgecolor=\"w\", s=10)"
   ]
  },
  {
   "cell_type": "markdown",
   "metadata": {},
   "source": [
    "Next visualization shows joint probabilities *p(x,y)* in the left charts and conditional probabilities in the right charts. So we can compare *p(x/yi)* in the upper right charts with *p(y/xi)* in the lower right charts, for 3 given values (thresholds) of y and x respectively."
   ]
  },
  {
   "cell_type": "code",
   "execution_count": 4,
   "metadata": {},
   "outputs": [],
   "source": [
    "import numpy as np\n",
    "from matplotlib.ticker import NullFormatter\n",
    "\n",
    "def plot_conditional_distributions(x,y,nbins=20,xlabel='x',ylabel='y'):\n",
    "    # Code derived from https://www.astroml.org/book_figures/chapter3/fig_conditional_probability.html \n",
    "    # Copyright (c) 2012-2013, Jacob Vanderplas All rights reserved.\n",
    "    # License: BSD \n",
    "    \n",
    "    \"\"\"\n",
    "Joint and Conditional Probabilities\n",
    "-----------------------------------\n",
    "\n",
    "An example of a two-dimensional probability distribution. The color-coded\n",
    "panel shows p(x, y). The two panels to the left and below show marginal\n",
    "distributions in x and y. The panels to the right show\n",
    "the conditional probability distributions p(x|y) for N=4\n",
    "different values of y (as marked in the left panel).\n",
    "Note: in the original code there are 3 panels.\n",
    "\"\"\"\n",
    "    \n",
    "    MIN_X = min(x)\n",
    "    MAX_X = max(x)\n",
    "    MIN_Y = min(y)\n",
    "    MAX_Y = max(y)\n",
    "\n",
    "    BINS=nbins\n",
    "    H, ybins, xbins = np.histogram2d(y, x, bins=BINS)\n",
    "    H /= np.sum(H)\n",
    "\n",
    "    #------------------------------------------------------------\n",
    "    # plot the result\n",
    "    fig = plt.figure(figsize=(10, 5))\n",
    "\n",
    "   # define axes\n",
    "    ax_Pxy = plt.axes((0.2, 0.34, 0.27, 0.52))\n",
    "    ax_Px = plt.axes((0.2, 0.14, 0.27, 0.2))\n",
    "    ax_Py = plt.axes((0.1, 0.34, 0.1, 0.52))\n",
    "    ax_cb = plt.axes((0.48, 0.34, 0.01, 0.52))\n",
    "    ax_Px_y = [plt.axes((0.65, 0.68, 0.32, 0.16)),\n",
    "          plt.axes((0.65, 0.50, 0.32, 0.16)),\n",
    "           plt.axes((0.65, 0.32, 0.32, 0.16)),\n",
    "            plt.axes((0.65, 0.14, 0.32, 0.16))\n",
    "          ]\n",
    "    # set axis label formatters\n",
    "\n",
    "    ax_Px_y[0].xaxis.set_major_formatter(NullFormatter())\n",
    "    ax_Px_y[1].xaxis.set_major_formatter(NullFormatter())\n",
    "\n",
    "    ax_Pxy.xaxis.set_major_formatter(NullFormatter())\n",
    "    ax_Pxy.yaxis.set_major_formatter(NullFormatter())\n",
    "\n",
    "    ax_Px.yaxis.set_major_formatter(NullFormatter())\n",
    "    ax_Py.xaxis.set_major_formatter(NullFormatter())\n",
    "\n",
    "    # draw the joint probability\n",
    "    plt.axes(ax_Pxy)\n",
    "    H *= 1000\n",
    "    plt.imshow(H, interpolation='nearest', origin='lower', aspect='auto',extent=[MIN_X, MAX_X, MIN_Y, MAX_Y], cmap=plt.cm.binary)\n",
    "\n",
    "    cb = plt.colorbar(cax=ax_cb)\n",
    "    cb.set_label('$p(x, y)$')\n",
    "    plt.text(0, 1.02, r'$\\times 10^{-3}$',\n",
    "         transform=ax_cb.transAxes)\n",
    "\n",
    "    # draw p(x) distribution\n",
    "    ax_Px.plot(xbins[1:], H.sum(0), '-k', drawstyle='steps')\n",
    "\n",
    "    # draw p(y) distribution\n",
    "    ax_Py.plot(H.sum(1), ybins[1:], '-k', drawstyle='steps')\n",
    "\n",
    "    # define axis limits\n",
    "    #ax_Pxy.set_xlim(0, 2)\n",
    "    ax_Pxy.set_xlim(min(x),max(x))\n",
    "    #ax_Pxy.set_ylim(0, 2)\n",
    "    ax_Pxy.set_ylim(min(y), max(y))\n",
    "    #ax_Px.set_xlim(0, 2)\n",
    "    ax_Px.set_xlim(min(x), max(x))\n",
    "\n",
    "    #ax_Py.set_ylim(0, 2)\n",
    "    ax_Py.set_ylim(min(y), max(y))\n",
    "\n",
    "\n",
    "    # label axes\n",
    "    ax_Pxy.set_xlabel('${}$'.format(xlabel))\n",
    "    ax_Pxy.set_ylabel('${}$'.format(ylabel))\n",
    "    ax_Px.set_xlabel('${}$'.format(xlabel))\n",
    "    ax_Px.set_ylabel('$p({})$'.format(xlabel))\n",
    "    ax_Px.yaxis.set_label_position('right')\n",
    "    ax_Py.set_ylabel('${}$'.format(ylabel))\n",
    "    ax_Py.set_xlabel('$p({})$'.format(ylabel))\n",
    "    ax_Py.xaxis.set_label_position('top')\n",
    "\n",
    "\n",
    "    # draw marginal probabilities\n",
    "\n",
    "    N = 4\n",
    "    iy = [N*BINS//(N+1), 3*BINS//(N+1), 2*BINS//(N+1), 1*BINS//(N+1)]\n",
    "\n",
    "    colors = 'rgcb'\n",
    "    axis = ax_Pxy.axis()\n",
    "    for i in range(N):\n",
    "        # overplot range on joint probability\n",
    "        ax_Pxy.plot([MIN_Y, MAX_Y, MAX_X, MIN_X],\n",
    "                [ybins[iy[i] + 1], ybins[iy[i] + 1],\n",
    "                 ybins[iy[i]], ybins[iy[i]]], c=colors[i], lw=1)\n",
    "        Px_y = H[iy[i]] / (H[iy[i]].sum()+0.00001)\n",
    "        ax_Px_y[i].plot(xbins[1:], Px_y, drawstyle='steps', c=colors[i])\n",
    "        ax_Px_y[i].yaxis.set_major_formatter(NullFormatter())\n",
    "        ax_Px_y[i].set_ylabel('p({}|{}={:.1f}){}'.format(xlabel,ylabel,ybins[iy[i]],\"\\n\"*(i%2)))\n",
    "    ax_Pxy.axis(axis)\n",
    "\n",
    "    ax_Px_y[(N-1)].set_xlabel('${}$'.format(xlabel))\n",
    "\n",
    "    ax_Pxy.set_title('Joint Probability')\n",
    "    ax_Px_y[0].set_title('Conditional Probability')\n",
    "\n",
    "    plt.show()"
   ]
  },
  {
   "cell_type": "code",
   "execution_count": 5,
   "metadata": {},
   "outputs": [
    {
     "data": {
      "image/png": "[encoded data removed]",
      "text/plain": [
       "<Figure size 720x360 with 8 Axes>"
      ]
     },
     "metadata": {
      "needs_background": "light"
     },
     "output_type": "display_data"
    },
    {
     "data": {
      "image/png": "[encoded data removed]",
      "text/plain": [
       "<Figure size 720x360 with 8 Axes>"
      ]
     },
     "metadata": {
      "needs_background": "light"
     },
     "output_type": "display_data"
    }
   ],
   "source": [
    "x = np.round(df_xy['x'])\n",
    "y = np.round(df_xy['y'])\n",
    "plot_conditional_distributions(x,y,nbins=8)\n",
    "plot_conditional_distributions(y,x,nbins=8, xlabel='y', ylabel='x')"
   ]
  },
  {
   "cell_type": "markdown",
   "metadata": {},
   "source": [
    "Visually it seems *P(x|y=k)* have more similar shapes than *P(y|x=k)*. So we could infer, according to the charts, that `y`->`x` is more plausible than `x`->`y`, if the assumption for *Conditional Distribution Similarity* holds. But this (visual) statement is wrong according to our ground truth (`x`->`y`). [More info](http://localhost:8888/notebooks/automatic_pairwise_causal_discovery_via_cds.ipynb#2.2.1.-The-paper)"
   ]
  },
  {
   "cell_type": "markdown",
   "metadata": {},
   "source": [
    "### Step 2: Pairwise causal discovery"
   ]
  },
  {
   "cell_type": "markdown",
   "metadata": {},
   "source": [
    "#### 2.1.- Analyze PNL method. Hands on"
   ]
  },
  {
   "cell_type": "markdown",
   "metadata": {},
   "source": [
    "MatLab code (tested in Octave). To get help: `help CauseOrEffect`\n",
    "```\n",
    "function CauseOrEffect(x)\n",
    " Use of constrained nonlinear ICA for distinguishing cause from effect.\n",
    " Version 1.0, May. 15 2009\n",
    " PURPOSE:\n",
    "       to find which one of xi (i=1,2) is the cause. In particular, this\n",
    "       function does 1) preprocessing to make xi rather clear to Gaussian,\n",
    "       2) learn the corresponding 'disturbance' under each assumed causal\n",
    "       direction, and 3) performs the independence tests to see if the\n",
    "       assumed cause if independent from the learned disturbance.\n",
    "\n",
    " INPUTS:\n",
    "       x (T*2): has two rows, each of them corresponds to a continuous\n",
    "       variable. T is the sample size.\n",
    "\n",
    " OUTPUTS:\n",
    "       The statistical tests results will be printed by this function.\n",
    "\n",
    " Author: Kun Zhang (Email: kzhang@tuebingen.mpg.de)\n",
    " This software is for non commercial use only. It is freeware but not in the public\n",
    " domain.\n",
    "If you find any bugs, please report them to me. Thanks a lot!\n",
    "```"
   ]
  },
  {
   "cell_type": "markdown",
   "metadata": {},
   "source": [
    "Let's try:"
   ]
  },
  {
   "cell_type": "code",
   "execution_count": 6,
   "metadata": {},
   "outputs": [
    {
     "name": "stdout",
     "output_type": "stream",
     "text": [
      "cd CauseOrEffect_NICA\r\n",
      "addpath(strcat(pwd,'/kernelIndependenceTests'), strcat(pwd,'/information'))\r\n",
      "more off\r\n",
      "x = dlmread('../data/pair0074.txt', ' ')(:,1:2)\r\n",
      "CauseOrEffect(x)\r\n"
     ]
    }
   ],
   "source": [
    "!echo \"cd CauseOrEffect_NICA\" > mycommands.m\n",
    "!echo \"addpath(strcat(pwd,'/kernelIndependenceTests'), strcat(pwd,'/information'))\">> mycommands.m\n",
    "!echo \"more off\" >> mycommands.m\n",
    "!echo \"x = dlmread('../data/pair0074.txt', ' ')(:,1:2)\" >> mycommands.m\n",
    "!echo \"CauseOrEffect(x)\" >> mycommands.m\n",
    "!cat mycommands.m"
   ]
  },
  {
   "cell_type": "code",
   "execution_count": 7,
   "metadata": {},
   "outputs": [
    {
     "name": "stdout",
     "output_type": "stream",
     "text": [
      "nohup: se descarta la entrada y se añade la salida a 'nohup.out'\r\n"
     ]
    }
   ],
   "source": [
    "# Execution can last >5mins\n",
    "!nohup octave mycommands.m"
   ]
  },
  {
   "cell_type": "code",
   "execution_count": 8,
   "metadata": {},
   "outputs": [
    {
     "name": "stdout",
     "output_type": "stream",
     "text": [
      "cost =  0.43710969,  improvement =  0.00001625,  epoch  1399\r\n",
      "cost =  0.43710563,  improvement =  0.00000406,  epoch  1400\r\n",
      "warning: Matlab-style short-circuit operation performed for operator &\r\n",
      "Performing independence tests...\r\n",
      "Under x1->x2, estimated mutual information = 0.0118117; \r\n",
      "at significance level alpha = 0.01, threshold = 0.00348222, and testStat = 0.00222082.\r\n",
      "Under x1<-x2, estimated mutual information = 0.0495432; \r\n",
      "at significance level alpha = 0.01, threshold = 0.00398639, and testStat = 0.00645327.\r\n",
      "\r\n",
      " Note: You can see which causal direction is plausible. The smaller the statistic, the more independent the cause and disturbance are.\r\n"
     ]
    }
   ],
   "source": [
    "!tail nohup.out"
   ]
  },
  {
   "cell_type": "markdown",
   "metadata": {},
   "source": [
    "\n",
    "Output:\n",
    "```\n",
    "Performing independence tests...\n",
    "Under x1->x2, estimated mutual information = -0.00253048;\n",
    "at significance level alpha = 0.01, threshold = 0.00347221, and testStat = 0.00148853.\n",
    "Under x1<-x2, estimated mutual information = 0.0539574;\n",
    "at significance level alpha = 0.01, threshold = 0.00360147, and testStat = 0.00668591.\n",
    "\n",
    "Note: You can see which causal direction is plausible. The smaller the statistic,the more independent the cause and disturbance are.\n",
    ">>\n",
    "```\n",
    "As `x1->x2` has smaller statistic than `x2->x1`, it seems that `x`->`y` is more plausible. And this is coherent with the established ground truth (and our intuition)."
   ]
  },
  {
   "cell_type": "markdown",
   "metadata": {},
   "source": [
    "#### 2.2.- Analyze `PNL` method: theory and context\n",
    "\n",
    "##### 2.2.1.-The papers\n",
    "\n",
    "- [On the Identifiability of the Post-Nonlinear Causal Model](https://arxiv.org/pdf/1205.2599.pdf) by Zhang et al, 2009\n",
    "- [Nonlinear Functional Causal Models for Distinguishing Cause from Effect](https://www.cs.helsinki.fi/u/ahyvarin/papers/Zhang16.pdf), Zhang et al, 2016\n",
    "\n",
    "According to the first paper, there are limited situations in which the PNL causal model is not identifiable, under assumptions like third-order differentiability of functions (f1,f2) and densities (pe2,px1):\n",
    ">\"*Suppose that [previous] assumptions [...] hold. If pe2, the density of the disturbance, is not\n",
    "Gaussian, nor log-mix-lin-exp, nor a generalized mixture of two exponentials, then the PNL causal model\n",
    "is identifiable.*\"\n",
    "\n",
    "According to the second paper:\n",
    ">\"*This information-theoretic formulation also leads to a simple intuitive interpretation of the likelihood ratio. It is well known that in the space of probability\n",
    "distributions of unit variance, differential entropy is maximized by Gaussian\n",
    "distribution. This is why (negative) differential entropy is often used as a measure\n",
    "of non-Gaussianity. In our case, we can thus interpret the asymptotic limit of the\n",
    "log-likelihood ratio in terms of non-Gaussianities and errors in regression*\"\n",
    "\n",
    ">*R → nongaussianity(x) + nongaussianity(residual in x → y) − log(error in x → y) − [nongaussianity(y) + nongaussianity(residual in y → x) − log(error in y → x)]*\n",
    "\n",
    ">\"*Intuitively, this means that*\n",
    "- *(1) if the non-Gaussianities are negligible, we choose the direction in which the\n",
    "error in the regression is smaller;*\n",
    "- *(2) if the errors in the regression are almost equal, we choose the direction of\n",
    "causality in which the sum of non-Gaussianities of the regressor and residual\n",
    "is maximized;*\n",
    "- *(3) in the general case, we have a sum of these two criteria: error in regression\n",
    "and non-Gaussianity.*\"\n",
    "\n"
   ]
  },
  {
   "cell_type": "code",
   "execution_count": null,
   "metadata": {},
   "outputs": [],
   "source": []
  }
 ],
 "metadata": {
  "kernelspec": {
   "display_name": "worldindata",
   "language": "python",
   "name": "worldindata"
  },
  "language_info": {
   "codemirror_mode": {
    "name": "ipython",
    "version": 3
   },
   "file_extension": ".py",
   "mimetype": "text/x-python",
   "name": "python",
   "nbconvert_exporter": "python",
   "pygments_lexer": "ipython3",
   "version": "3.7.3"
  }
 },
 "nbformat": 4,
 "nbformat_minor": 2
}
